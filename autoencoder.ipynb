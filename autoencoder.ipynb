{
 "cells": [
  {
   "cell_type": "code",
   "execution_count": 1,
   "metadata": {},
   "outputs": [],
   "source": [
    "import numpy as np"
   ]
  },
  {
   "cell_type": "code",
   "execution_count": 2,
   "metadata": {},
   "outputs": [
    {
     "name": "stderr",
     "output_type": "stream",
     "text": [
      "/home/linux/anaconda3/lib/python3.6/site-packages/h5py/__init__.py:36: FutureWarning: Conversion of the second argument of issubdtype from `float` to `np.floating` is deprecated. In future, it will be treated as `np.float64 == np.dtype(float).type`.\n",
      "  from ._conv import register_converters as _register_converters\n"
     ]
    }
   ],
   "source": [
    "import sklearn.preprocessing as prep\n",
    "import tensorflow as tf\n",
    "from tensorflow.examples.tutorials.mnist import input_data"
   ]
  },
  {
   "cell_type": "code",
   "execution_count": null,
   "metadata": {},
   "outputs": [],
   "source": []
  },
  {
   "cell_type": "code",
   "execution_count": 3,
   "metadata": {},
   "outputs": [],
   "source": [
    "def xavier_init(fan_in,fan_out,constant=1):\n",
    "    low = -constant * np.sqrt(6.0 / (fan_in + fan_out))\n",
    "    high = -constant * np.sqrt(6.0 / (fan_in + fan_out))\n",
    "    return tf.random_uniform((fan_in,fan_out),\n",
    "                            minval = low,maxval = high,\n",
    "                            dtype = tf.float32)"
   ]
  },
  {
   "cell_type": "code",
   "execution_count": null,
   "metadata": {},
   "outputs": [],
   "source": []
  },
  {
   "cell_type": "code",
   "execution_count": 4,
   "metadata": {},
   "outputs": [],
   "source": [
    "class AdditiveGaussianNoiseAutoencoder(object):\n",
    "    def __init__(self,n_input,n_hidden,transfer_function=tf.nn.softplus,\n",
    "                optimizer = tf.train.AdamOptimizer(),scale=0.1):\n",
    "            self.n_input = n_input\n",
    "            self.n_hidden = n_hidden\n",
    "            self.transfer = transfer_function\n",
    "            self.scale = tf.placeholder(tf.float32)\n",
    "            self.training_scale = scale\n",
    "            \n",
    "            network_weights = self._initialize_weights()\n",
    "            self.weights = network_weights\n",
    "            \n",
    "            self.x = tf.placeholder(tf.float32,[None,self.n_input])\n",
    "            self.hidden = self.transfer(tf.add(tf.matmul(\n",
    "                            self.x + scale * tf.random_normal((n_input,)),\n",
    "                            self.weights['w1']),self.weights['b1']))\n",
    "            \n",
    "            self.reconstruction = tf.add(tf.matmul(self.hidden,\n",
    "                                                  self.weights['w2']),self.weights['b2'])\n",
    "            \n",
    "            self.cost = 0.5 * tf.reduce_sum(tf.pow(tf.subtract(\n",
    "                            self.reconstruction,self.x),2.0))\n",
    "            \n",
    "            self.optimizer = optimizer.minimize(self.cost)\n",
    "            \n",
    "            init = tf.global_variables_initializer()\n",
    "            \n",
    "            self.sess = tf.Session()\n",
    "            self.sess.run(init)\n",
    "    \n",
    "    def _initialize_weights(self):\n",
    "        all_weights = dict()\n",
    "        all_weights['w1'] = tf.Variable(xavier_init(self.n_input,\n",
    "                                                   self.n_hidden))\n",
    "        \n",
    "        all_weights['b1'] = tf.Variable(tf.zeros([self.n_hidden],dtype=tf.float32))\n",
    "        \n",
    "        all_weights['w2'] = tf.Variable(tf.zeros([self.n_hidden,\n",
    "                                                 self.n_input],dtype=tf.float32))\n",
    "        \n",
    "        all_weights['b2'] = tf.Variable(tf.zeros([self.n_input],\n",
    "                                                dtype=tf.float32))\n",
    "        \n",
    "        return all_weights\n",
    "            \n",
    "        \n",
    "    def partial_fit(self,X):\n",
    "        cost,opt = self.sess.run((self.cost,self.optimizer),\n",
    "                                feed_dict={self.x:X, self.scale:self.training_scale})\n",
    "        return cost\n",
    "    \n",
    "    def calc_total_cost(self,X):\n",
    "        return self.sess.run(self.cost,feed_dict={self.x: X,\n",
    "                             self.scale: self.training_scale})\n",
    "    \n",
    "    \n",
    "    def transform(self,X):\n",
    "        return self.sess.run(self.hidden,feed_dict={self.x:X,                          \n",
    "                            self.scale:self.training_scale})\n",
    "    \n",
    "    def generate(self,hidden = None):\n",
    "        if hidden is None:\n",
    "            hidden = np.random.normal(size=self.weights[\"b1\"])\n",
    "        \n",
    "        return self.sess.run(self.reconstruction,\n",
    "                             feed_dict={self.hidden: hidden})\n",
    "    \n",
    "    def reconstruct(self,X):\n",
    "        return self.sess.run(self.reconstruction,feed_dict={self.x:X,\n",
    "                             self.training_scale:self.training_scale})\n",
    "    \n",
    "    def getWeights(self):\n",
    "        return self.sess.run(self.weights['w1'])\n",
    "    \n",
    "    def getBiases(self):\n",
    "        return self.sess.run(self.weights['b1'])\n",
    "    \n",
    "    "
   ]
  },
  {
   "cell_type": "code",
   "execution_count": null,
   "metadata": {},
   "outputs": [],
   "source": []
  },
  {
   "cell_type": "code",
   "execution_count": 5,
   "metadata": {},
   "outputs": [
    {
     "name": "stdout",
     "output_type": "stream",
     "text": [
      "Extracting MNIST_data/train-images-idx3-ubyte.gz\n",
      "Extracting MNIST_data/train-labels-idx1-ubyte.gz\n",
      "Extracting MNIST_data/t10k-images-idx3-ubyte.gz\n",
      "Extracting MNIST_data/t10k-labels-idx1-ubyte.gz\n"
     ]
    }
   ],
   "source": [
    "mnist = input_data.read_data_sets('MNIST_data',one_hot=True)"
   ]
  },
  {
   "cell_type": "code",
   "execution_count": null,
   "metadata": {},
   "outputs": [],
   "source": []
  },
  {
   "cell_type": "code",
   "execution_count": 6,
   "metadata": {},
   "outputs": [],
   "source": [
    "def standard_scale(X_train,X_test):\n",
    "    preprocessor = prep.StandardScaler().fit(X_train)\n",
    "    X_train = preprocessor.transform(X_train)\n",
    "    X_test = preprocessor.transform(X_test)\n",
    "    \n",
    "    return X_train, X_test"
   ]
  },
  {
   "cell_type": "code",
   "execution_count": null,
   "metadata": {},
   "outputs": [],
   "source": []
  },
  {
   "cell_type": "code",
   "execution_count": 7,
   "metadata": {},
   "outputs": [],
   "source": [
    "def get_random_block_from_data(data,batch_size):\n",
    "    start_index = np.random.randint(0,len(data) - batch_size)\n",
    "    return data[start_index : (start_index + batch_size)]"
   ]
  },
  {
   "cell_type": "code",
   "execution_count": null,
   "metadata": {},
   "outputs": [],
   "source": []
  },
  {
   "cell_type": "code",
   "execution_count": 8,
   "metadata": {},
   "outputs": [],
   "source": [
    "X_train,X_test = standard_scale(mnist.train.images, mnist.test.images)\n",
    "\n",
    "n_samples = int(mnist.train.num_examples)\n",
    "training_epochs = 20\n",
    "batch_size = 128\n",
    "display_step = 1\n"
   ]
  },
  {
   "cell_type": "code",
   "execution_count": null,
   "metadata": {},
   "outputs": [],
   "source": []
  },
  {
   "cell_type": "code",
   "execution_count": 10,
   "metadata": {},
   "outputs": [],
   "source": [
    "autoencoder = AdditiveGaussianNoiseAutoencoder(n_input = 784,\n",
    "                                    n_hidden = 200,\n",
    "                                    transfer_function = tf.nn.softplus,\n",
    "                                    optimizer = tf.train.AdamOptimizer(learning_rate = 1e-3),\n",
    "                                    scale = 0.01)"
   ]
  },
  {
   "cell_type": "code",
   "execution_count": null,
   "metadata": {},
   "outputs": [],
   "source": []
  },
  {
   "cell_type": "code",
   "execution_count": 13,
   "metadata": {},
   "outputs": [
    {
     "name": "stdout",
     "output_type": "stream",
     "text": [
      "Epoch: 0001 cost= 46185.656450000\n",
      "Epoch: 0002 cost= 43448.620468182\n",
      "Epoch: 0003 cost= 42613.090363636\n",
      "Epoch: 0004 cost= 46841.209890909\n",
      "Epoch: 0005 cost= 50927.516309091\n",
      "Epoch: 0006 cost= 75038.646727273\n",
      "Epoch: 0007 cost= 66131.796745454\n",
      "Epoch: 0008 cost= 53701.795818182\n",
      "Epoch: 0009 cost= 55577.269309091\n",
      "Epoch: 0010 cost= 45912.746995455\n",
      "Epoch: 0011 cost= 45214.754322727\n",
      "Epoch: 0012 cost= 49364.003904545\n",
      "Epoch: 0013 cost= 44458.869913636\n",
      "Epoch: 0014 cost= 45298.259854545\n",
      "Epoch: 0015 cost= 44290.192450000\n",
      "Epoch: 0016 cost= 44886.395159091\n",
      "Epoch: 0017 cost= 43167.661568182\n",
      "Epoch: 0018 cost= 43611.880104545\n",
      "Epoch: 0019 cost= 42508.837531818\n",
      "Epoch: 0020 cost= 45183.025145455\n"
     ]
    }
   ],
   "source": [
    "for epoch in range(training_epochs):\n",
    "    avg_cost = 0.\n",
    "    total_batch = int(n_samples / batch_size)\n",
    "    for i in range(total_batch):\n",
    "        batch_xs = get_random_block_from_data(X_train, batch_size)\n",
    "        cost = autoencoder.partial_fit(batch_xs)\n",
    "        avg_cost += cost / n_samples * batch_size\n",
    "        \n",
    "    if epoch % display_step == 0:\n",
    "        print (\"Epoch:\", '%04d' % (epoch + 1), \"cost=\",\n",
    "              \"{:.9f}\".format(avg_cost))"
   ]
  },
  {
   "cell_type": "code",
   "execution_count": 14,
   "metadata": {},
   "outputs": [
    {
     "name": "stdout",
     "output_type": "stream",
     "text": [
      "Total cost: 3432877.5\n"
     ]
    }
   ],
   "source": [
    "print(\"Total cost: \" + str(autoencoder.calc_total_cost(X_test)))"
   ]
  },
  {
   "cell_type": "code",
   "execution_count": null,
   "metadata": {},
   "outputs": [],
   "source": []
  }
 ],
 "metadata": {
  "kernelspec": {
   "display_name": "Python 3",
   "language": "python",
   "name": "python3"
  },
  "language_info": {
   "codemirror_mode": {
    "name": "ipython",
    "version": 3
   },
   "file_extension": ".py",
   "mimetype": "text/x-python",
   "name": "python",
   "nbconvert_exporter": "python",
   "pygments_lexer": "ipython3",
   "version": "3.6.4"
  }
 },
 "nbformat": 4,
 "nbformat_minor": 2
}
